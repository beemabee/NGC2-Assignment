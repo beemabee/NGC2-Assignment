{
 "cells": [
  {
   "cell_type": "code",
   "execution_count": 23,
   "metadata": {},
   "outputs": [],
   "source": [
    "numbers = [951, 402, 984, 651, 360, 69, 408,\n",
    "319, 601, 485, 980, 507, 725, 547, 544, 615,\n",
    "83, 165, 141, 501, 263, 617, 865, 575, 219,\n",
    "390, 984, 592, 236, 105, 942, 941, 386, 462, \n",
    "47, 418, 907, 344, 236, 375, 823, 566, 597, \n",
    "978, 328, 615, 953, 345, 399, 162, 758, 219,\n",
    "918, 237, 412, 566, 826, 248, 866, 950, 626,\n",
    "949]"
   ]
  },
  {
   "cell_type": "code",
   "execution_count": 28,
   "metadata": {},
   "outputs": [
    {
     "name": "stdout",
     "output_type": "stream",
     "text": [
      "402 984 360 408 980 544 390 984 592 236 942 386 462 418 344 236 566 978 328 162 758 918 Done\n"
     ]
    }
   ],
   "source": [
    "''' Command berikut untuk menjawab pertanyaan\n",
    "1. menghasilkan angka genap dan list dari numbers dengan urutan yang sama.\n",
    "\n",
    "2. tidak mencetak angka apapun yang muncul setelah angka 918 berdasarkan posisi\n",
    "   list numbers \n",
    "3. tampilkan pesan \"done\" setelah looping berakhir\n",
    "'''\n",
    "\n",
    "# jawab no 1\n",
    "for i in numbers:\n",
    "    if i % 2 == 0:\n",
    "        print(i, end=' ')\n",
    "\n",
    "# jawab no 2\n",
    "    if i == 918:\n",
    "        break\n",
    "\n",
    "# jawab no 3\n",
    "print('Done')"
   ]
  }
 ],
 "metadata": {
  "kernelspec": {
   "display_name": "Python 3",
   "language": "python",
   "name": "python3"
  },
  "language_info": {
   "codemirror_mode": {
    "name": "ipython",
    "version": 3
   },
   "file_extension": ".py",
   "mimetype": "text/x-python",
   "name": "python",
   "nbconvert_exporter": "python",
   "pygments_lexer": "ipython3",
   "version": "3.9.13"
  },
  "orig_nbformat": 4
 },
 "nbformat": 4,
 "nbformat_minor": 2
}
